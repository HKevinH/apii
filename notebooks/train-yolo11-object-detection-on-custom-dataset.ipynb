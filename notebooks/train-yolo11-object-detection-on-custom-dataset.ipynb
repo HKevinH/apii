{
  "cells": [
    {
      "cell_type": "code",
      "source": [
        "from ultralytics.utils.downloads import download\n",
        "from pathlib import Path\n",
        "\n",
        "# Define el directorio donde se almacenarán los datos\n",
        "path = Path('../datasets/coco')  # Cambia la ruta si es necesario\n",
        "\n",
        "# URLs para los archivos de COCO\n",
        "url_labels = 'https://github.com/ultralytics/assets/releases/download/v0.0.0/coco2017labels.zip'\n",
        "url_train_images = 'http://images.cocodataset.org/zips/train2017.zip'\n",
        "url_val_images = 'http://images.cocodataset.org/zips/val2017.zip'\n",
        "url_test_images = 'http://images.cocodataset.org/zips/test2017.zip'\n",
        "\n",
        "# Descargar etiquetas\n",
        "download([url_labels], dir=path)\n",
        "\n",
        "# Descargar conjuntos de imágenes\n",
        "download([url_train_images, url_val_images, url_test_images], dir=path / 'images', threads=3)\n"
      ],
      "metadata": {
        "id": "Tt7vUHAf2UHY",
        "outputId": "18985cf3-cba0-405e-db03-b1ad8007ba83",
        "colab": {
          "base_uri": "https://localhost:8080/"
        }
      },
      "execution_count": null,
      "outputs": [
        {
          "output_type": "stream",
          "name": "stdout",
          "text": [
            "Downloading https://ultralytics.com/assets/coco2017labels.zip to '../datasets/coco/coco2017labels.zip'...\n"
          ]
        },
        {
          "output_type": "stream",
          "name": "stderr",
          "text": [
            "100%|██████████| 46.4M/46.4M [00:00<00:00, 276MB/s]\n",
            "Unzipping ../datasets/coco/coco2017labels.zip to /datasets/coco/coco...: 100%|██████████| 122232/122232 [00:20<00:00, 6053.24file/s]"
          ]
        },
        {
          "output_type": "stream",
          "name": "stdout",
          "text": [
            "Downloading http://images.cocodataset.org/zips/train2017.zip to '../datasets/coco/images/train2017.zip'...\n",
            "Downloading http://images.cocodataset.org/zips/val2017.zip to '../datasets/coco/images/val2017.zip'...\n",
            "Downloading http://images.cocodataset.org/zips/test2017.zip to '../datasets/coco/images/test2017.zip'...\n"
          ]
        },
        {
          "output_type": "stream",
          "name": "stderr",
          "text": [
            "\n"
          ]
        }
      ]
    }
  ],
  "metadata": {
    "accelerator": "GPU",
    "colab": {
      "provenance": []
    },
    "gpuClass": "standard",
    "kernelspec": {
      "display_name": "Python 3 (ipykernel)",
      "language": "python",
      "name": "python3"
    },
    "language_info": {
      "codemirror_mode": {
        "name": "ipython",
        "version": 3
      },
      "file_extension": ".py",
      "mimetype": "text/x-python",
      "name": "python",
      "nbconvert_exporter": "python",
      "pygments_lexer": "ipython3",
      "version": "3.9.6"
    }
  },
  "nbformat": 4,
  "nbformat_minor": 0
}